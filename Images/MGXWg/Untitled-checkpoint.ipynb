{
 "cells": [
  {
   "cell_type": "code",
   "execution_count": 1,
   "metadata": {},
   "outputs": [],
   "source": [
    "import os\n",
    "import random\n",
    "import string"
   ]
  },
  {
   "cell_type": "code",
   "execution_count": 12,
   "metadata": {},
   "outputs": [
    {
     "data": {
      "text/plain": [
       "['AurSc.jpg',\n",
       " 'dM8KQ.jpg',\n",
       " 'TOx3D.jpg',\n",
       " '9CaqC.jpg',\n",
       " '312TB.jpg',\n",
       " 'dLeoC.jpg',\n",
       " '.DS_Store',\n",
       " '9DcFp.jpg',\n",
       " 't6L9s.jpg',\n",
       " 'tmMPx.jpg',\n",
       " 'ZL7BZ.jpg',\n",
       " '1kPmc.jpg',\n",
       " 'Untitled.ipynb',\n",
       " 'pjMWM.jpg',\n",
       " '1bcjS.jpg',\n",
       " 'tnISL.jpg',\n",
       " 'n2BRI.jpg',\n",
       " '6S6NS.jpg',\n",
       " 'N4EdS.jpg',\n",
       " 'FJWvl.jpg',\n",
       " 'T4Mor.jpg',\n",
       " 'ZYVRN.jpg',\n",
       " '0GRKP.jpg',\n",
       " '5AJhR.jpg',\n",
       " 'eVGgJ.jpg',\n",
       " 'RzFHm.jpg',\n",
       " '4sdX9.jpg',\n",
       " 'XUTAD.jpg',\n",
       " 'MSgFn.ipynb',\n",
       " '18P73.jpg',\n",
       " 'EzEqY.jpg',\n",
       " 'GD7zW.jpg',\n",
       " 'IzjTw.jpg',\n",
       " 'PPLhp.jpg',\n",
       " '58RNS.jpg',\n",
       " 'dcTZL.jpg',\n",
       " 'DZ48S.jpg',\n",
       " '.ipynb_checkpoints',\n",
       " 'lxKxZ.jpg',\n",
       " 'ib2U3.jpg',\n",
       " 'ZzZPI.jpg',\n",
       " 'vIeeJ.jpg',\n",
       " 'mJC3z.jpg',\n",
       " 'YxrbU.jpg',\n",
       " 's1Bfn',\n",
       " '9z3JE.jpg',\n",
       " 'r4Kx9.jpg',\n",
       " 'lalnj.jpg',\n",
       " 'B97Yx.jpg',\n",
       " 'Lrzjf.jpg',\n",
       " 'm4hOR.jpg']"
      ]
     },
     "execution_count": 12,
     "metadata": {},
     "output_type": "execute_result"
    }
   ],
   "source": [
    "def get_image(location):\n",
    "    images = os.listdir(location)\n",
    "    return images\n",
    "image_list = get_image('../Images')\n",
    "image_list\n"
   ]
  },
  {
   "cell_type": "code",
   "execution_count": 13,
   "metadata": {},
   "outputs": [
    {
     "name": "stdout",
     "output_type": "stream",
     "text": [
      "None\n",
      "None\n",
      "None\n",
      "None\n",
      "None\n",
      "None\n",
      "None\n",
      "None\n",
      "None\n",
      "None\n",
      "None\n",
      "None\n",
      "None\n",
      "None\n",
      "None\n",
      "None\n",
      "None\n",
      "None\n",
      "None\n",
      "None\n",
      "None\n",
      "None\n",
      "None\n",
      "None\n",
      "None\n",
      "None\n",
      "None\n",
      "None\n",
      "None\n",
      "None\n",
      "None\n",
      "None\n",
      "None\n",
      "None\n",
      "None\n",
      "None\n",
      "None\n",
      "None\n",
      "None\n",
      "None\n",
      "None\n",
      "None\n",
      "None\n",
      "None\n",
      "None\n",
      "None\n",
      "None\n",
      "None\n",
      "None\n",
      "None\n",
      "None\n"
     ]
    },
    {
     "data": {
      "text/plain": [
       "['AurSc.jpg',\n",
       " 'dM8KQ.jpg',\n",
       " 'TOx3D.jpg',\n",
       " '9CaqC.jpg',\n",
       " '312TB.jpg',\n",
       " 'dLeoC.jpg',\n",
       " '.DS_Store',\n",
       " '9DcFp.jpg',\n",
       " 't6L9s.jpg',\n",
       " 'tmMPx.jpg',\n",
       " 'ZL7BZ.jpg',\n",
       " '1kPmc.jpg',\n",
       " 'Untitled.ipynb',\n",
       " 'pjMWM.jpg',\n",
       " '1bcjS.jpg',\n",
       " 'tnISL.jpg',\n",
       " 'n2BRI.jpg',\n",
       " '6S6NS.jpg',\n",
       " 'N4EdS.jpg',\n",
       " 'FJWvl.jpg',\n",
       " 'T4Mor.jpg',\n",
       " 'ZYVRN.jpg',\n",
       " '0GRKP.jpg',\n",
       " '5AJhR.jpg',\n",
       " 'eVGgJ.jpg',\n",
       " 'RzFHm.jpg',\n",
       " '4sdX9.jpg',\n",
       " 'XUTAD.jpg',\n",
       " 'MSgFn.ipynb',\n",
       " '18P73.jpg',\n",
       " 'EzEqY.jpg',\n",
       " 'GD7zW.jpg',\n",
       " 'IzjTw.jpg',\n",
       " 'PPLhp.jpg',\n",
       " '58RNS.jpg',\n",
       " 'dcTZL.jpg',\n",
       " 'DZ48S.jpg',\n",
       " '.ipynb_checkpoints',\n",
       " 'lxKxZ.jpg',\n",
       " 'ib2U3.jpg',\n",
       " 'ZzZPI.jpg',\n",
       " 'vIeeJ.jpg',\n",
       " 'mJC3z.jpg',\n",
       " 'YxrbU.jpg',\n",
       " 's1Bfn',\n",
       " '9z3JE.jpg',\n",
       " 'r4Kx9.jpg',\n",
       " 'lalnj.jpg',\n",
       " 'B97Yx.jpg',\n",
       " 'Lrzjf.jpg',\n",
       " 'm4hOR.jpg']"
      ]
     },
     "execution_count": 13,
     "metadata": {},
     "output_type": "execute_result"
    }
   ],
   "source": [
    "\n",
    "for image in image_list:\n",
    "    image_name = os.path.splitext(image)[0]\n",
    "    image_ext = os.path.splitext(image)[1]\n",
    "    old_name = image_name + image_ext\n",
    "    new_name = ''.join(random.choice(string.ascii_letters+string.digits) for i in range (5))+ image_ext\n",
    "    image_renamed = os.rename(old_name,new_name)\n",
    "    print(image_renamed)"
   ]
  },
  {
   "cell_type": "code",
   "execution_count": null,
   "metadata": {},
   "outputs": [],
   "source": [
    "for image in image_list:\n",
    "    new_name = ''.join(random.choice(string.ascii_letters+string.digits) for i in range (5))+ image_ext\n",
    "    print(new_name)"
   ]
  },
  {
   "cell_type": "code",
   "execution_count": null,
   "metadata": {},
   "outputs": [],
   "source": [
    "image_renamed = os.rename(old_name,new_name)\n",
    "print(image_renamed)"
   ]
  },
  {
   "cell_type": "code",
   "execution_count": null,
   "metadata": {},
   "outputs": [],
   "source": []
  }
 ],
 "metadata": {
  "kernelspec": {
   "display_name": "Python 3",
   "language": "python",
   "name": "python3"
  },
  "language_info": {
   "codemirror_mode": {
    "name": "ipython",
    "version": 3
   },
   "file_extension": ".py",
   "mimetype": "text/x-python",
   "name": "python",
   "nbconvert_exporter": "python",
   "pygments_lexer": "ipython3",
   "version": "3.7.6"
  }
 },
 "nbformat": 4,
 "nbformat_minor": 4
}
