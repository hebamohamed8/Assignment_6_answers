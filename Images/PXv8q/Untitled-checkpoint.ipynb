{
 "cells": [
  {
   "cell_type": "code",
   "execution_count": 1,
   "metadata": {},
   "outputs": [],
   "source": [
    "import os\n",
    "import random\n",
    "import string"
   ]
  },
  {
   "cell_type": "code",
   "execution_count": 7,
   "metadata": {},
   "outputs": [
    {
     "data": {
      "text/plain": [
       "['ZZJu6.jpg',\n",
       " 'nature1.jpg',\n",
       " 'dandelion.jpg',\n",
       " 'Untitled.ipynb',\n",
       " 'viewcairo.jpg',\n",
       " 'edward.jpg',\n",
       " 'stock.jpg',\n",
       " 'loveourplanet.jpg',\n",
       " 'forest.jpg',\n",
       " 'images1.jpg',\n",
       " 'img9.jpg',\n",
       " 'img8.jpg',\n",
       " 'heart.jpg',\n",
       " 'wolf.jpg',\n",
       " 'img5.jpg',\n",
       " 'photo.jpg',\n",
       " 'moon.jpg',\n",
       " 'img4.jpg',\n",
       " 'istockphoto.jpg',\n",
       " 'lights.jpg',\n",
       " 'img6.jpg',\n",
       " 'img7.jpg',\n",
       " 'img10.jog.jpg',\n",
       " 'img3.jpg',\n",
       " 'img2.jpg',\n",
       " 'cairo.jpg',\n",
       " 'cnnnext.jpg',\n",
       " 'nature.jpg',\n",
       " 'pexels.jpg',\n",
       " 'gud.jpg',\n",
       " 'colorful.jpg',\n",
       " 'img1.jpg',\n",
       " '.ipynb_checkpoints',\n",
       " 'woman.jpg',\n",
       " 'lead.jpg',\n",
       " 'miss.jpg',\n",
       " 'img11.jpg',\n",
       " 'image1.jpg',\n",
       " 'photo2.jpg',\n",
       " 'img12.jpg',\n",
       " 'images.jpg',\n",
       " 'Image2.jpg',\n",
       " 'image.jpg',\n",
       " 'photo1.jpg',\n",
       " 'environment.jpg',\n",
       " 'high.jpg',\n",
       " 'free.jpg',\n",
       " 'Image3.jpg']"
      ]
     },
     "execution_count": 7,
     "metadata": {},
     "output_type": "execute_result"
    }
   ],
   "source": [
    "def get_image(location):\n",
    "    images = os.listdir(location)\n",
    "    return images\n",
    "image_list = get_image('../Images')\n",
    "image_list.remove('.DS_Store')\n",
    "image_list\n"
   ]
  },
  {
   "cell_type": "code",
   "execution_count": 9,
   "metadata": {},
   "outputs": [
    {
     "ename": "FileNotFoundError",
     "evalue": "[Errno 2] No such file or directory: 'ZZJu6.jpg' -> 'K33jd.jpg'",
     "output_type": "error",
     "traceback": [
      "\u001b[0;31m---------------------------------------------------------------------------\u001b[0m",
      "\u001b[0;31mFileNotFoundError\u001b[0m                         Traceback (most recent call last)",
      "\u001b[0;32m<ipython-input-9-f86ec37233c4>\u001b[0m in \u001b[0;36m<module>\u001b[0;34m\u001b[0m\n\u001b[1;32m      4\u001b[0m     \u001b[0mold_name\u001b[0m \u001b[0;34m=\u001b[0m \u001b[0mimage_name\u001b[0m \u001b[0;34m+\u001b[0m \u001b[0mimage_ext\u001b[0m\u001b[0;34m\u001b[0m\u001b[0;34m\u001b[0m\u001b[0m\n\u001b[1;32m      5\u001b[0m     \u001b[0mnew_name\u001b[0m \u001b[0;34m=\u001b[0m \u001b[0;34m''\u001b[0m\u001b[0;34m.\u001b[0m\u001b[0mjoin\u001b[0m\u001b[0;34m(\u001b[0m\u001b[0mrandom\u001b[0m\u001b[0;34m.\u001b[0m\u001b[0mchoice\u001b[0m\u001b[0;34m(\u001b[0m\u001b[0mstring\u001b[0m\u001b[0;34m.\u001b[0m\u001b[0mascii_letters\u001b[0m\u001b[0;34m+\u001b[0m\u001b[0mstring\u001b[0m\u001b[0;34m.\u001b[0m\u001b[0mdigits\u001b[0m\u001b[0;34m)\u001b[0m \u001b[0;32mfor\u001b[0m \u001b[0mi\u001b[0m \u001b[0;32min\u001b[0m \u001b[0mrange\u001b[0m \u001b[0;34m(\u001b[0m\u001b[0;36m5\u001b[0m\u001b[0;34m)\u001b[0m\u001b[0;34m)\u001b[0m\u001b[0;34m+\u001b[0m \u001b[0mimage_ext\u001b[0m\u001b[0;34m\u001b[0m\u001b[0;34m\u001b[0m\u001b[0m\n\u001b[0;32m----> 6\u001b[0;31m     \u001b[0mimage_renamed\u001b[0m \u001b[0;34m=\u001b[0m \u001b[0mos\u001b[0m\u001b[0;34m.\u001b[0m\u001b[0mrename\u001b[0m\u001b[0;34m(\u001b[0m\u001b[0mold_name\u001b[0m\u001b[0;34m,\u001b[0m\u001b[0mnew_name\u001b[0m\u001b[0;34m)\u001b[0m\u001b[0;34m\u001b[0m\u001b[0;34m\u001b[0m\u001b[0m\n\u001b[0m\u001b[1;32m      7\u001b[0m     \u001b[0mprint\u001b[0m\u001b[0;34m(\u001b[0m\u001b[0mimage_renamed\u001b[0m\u001b[0;34m)\u001b[0m\u001b[0;34m\u001b[0m\u001b[0;34m\u001b[0m\u001b[0m\n\u001b[1;32m      8\u001b[0m \u001b[0mimage_list\u001b[0m\u001b[0;34m\u001b[0m\u001b[0;34m\u001b[0m\u001b[0m\n",
      "\u001b[0;31mFileNotFoundError\u001b[0m: [Errno 2] No such file or directory: 'ZZJu6.jpg' -> 'K33jd.jpg'"
     ]
    }
   ],
   "source": [
    "\n",
    "for image in image_list:\n",
    "    image_name = os.path.splitext(image)[0]\n",
    "    image_ext = os.path.splitext(image)[1]\n",
    "    old_name = image_name + image_ext\n",
    "    new_name = ''.join(random.choice(string.ascii_letters+string.digits) for i in range (5))+ image_ext\n",
    "    image_renamed = os.rename(old_name,new_name)\n",
    "    print(image_renamed)\n",
    "image_list"
   ]
  },
  {
   "cell_type": "code",
   "execution_count": null,
   "metadata": {},
   "outputs": [],
   "source": [
    "for image in image_list:\n",
    "    new_name = ''.join(random.choice(string.ascii_letters+string.digits) for i in range (5))+ image_ext\n",
    "    print(new_name)"
   ]
  },
  {
   "cell_type": "code",
   "execution_count": null,
   "metadata": {},
   "outputs": [],
   "source": [
    "image_renamed = os.rename(old_name,new_name)\n",
    "print(image_renamed)"
   ]
  },
  {
   "cell_type": "code",
   "execution_count": null,
   "metadata": {},
   "outputs": [],
   "source": []
  }
 ],
 "metadata": {
  "kernelspec": {
   "display_name": "Python 3",
   "language": "python",
   "name": "python3"
  },
  "language_info": {
   "codemirror_mode": {
    "name": "ipython",
    "version": 3
   },
   "file_extension": ".py",
   "mimetype": "text/x-python",
   "name": "python",
   "nbconvert_exporter": "python",
   "pygments_lexer": "ipython3",
   "version": "3.7.6"
  }
 },
 "nbformat": 4,
 "nbformat_minor": 4
}
