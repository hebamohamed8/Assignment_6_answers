{
 "cells": [
  {
   "cell_type": "code",
   "execution_count": 38,
   "metadata": {},
   "outputs": [],
   "source": [
    "import os\n",
    "import random\n",
    "import string"
   ]
  },
  {
   "cell_type": "code",
   "execution_count": 39,
   "metadata": {},
   "outputs": [
    {
     "data": {
      "text/plain": [
       "['ywm3u.jpg',\n",
       " 'c1T5m.jpg',\n",
       " '4IsdB.jpg',\n",
       " 'hgcAx.jpg',\n",
       " 'TIAYz.jpg',\n",
       " 'pItZ1.jpg',\n",
       " 'KRVoV.jpg',\n",
       " '6nAIc.jpg',\n",
       " 'tsaLF',\n",
       " 'zlC1J.jpg',\n",
       " '2hGcN.jpg',\n",
       " 'Mf5z9.jpg',\n",
       " 'Vu6tE.jpg',\n",
       " 'Repws',\n",
       " '9sVxw.jpg',\n",
       " '9VBQT',\n",
       " 'IEjCC.ipynb',\n",
       " 'Vfo78.jpg',\n",
       " 'WGF6O.jpg',\n",
       " 'qMxKp.jpg',\n",
       " 'Untitled.ipynb',\n",
       " 'ULLba.jpg',\n",
       " 'Y3ndP.jpg',\n",
       " '0PvNj',\n",
       " 'AVq5U',\n",
       " '6gMux.jpg',\n",
       " 'bSvcJ.jpg',\n",
       " 'TRzNi.jpg',\n",
       " 'TYitG.jpg',\n",
       " 'Y7v5H.ipynb',\n",
       " 'iI5ol.jpg',\n",
       " 'YsyM1.ipynb',\n",
       " 'QfHOH.ipynb',\n",
       " 'sIDgm.jpg',\n",
       " 'MGNmp.jpg',\n",
       " 'zrjx8.jpg',\n",
       " 'TWZyQ.jpg',\n",
       " 'hWY06.jpg',\n",
       " 'qXyNy.jpg',\n",
       " '50Joa.jpg',\n",
       " 'AfBqv.jpg',\n",
       " 'ygjjG.ipynb',\n",
       " 'k6oei.jpg',\n",
       " 'VhSOH.jpg',\n",
       " 'oVt8u.jpg',\n",
       " '48Gi2.ipynb',\n",
       " 'M4i83.jpg',\n",
       " 'zO2Uq',\n",
       " '.ipynb_checkpoints',\n",
       " 'lptDc.jpg',\n",
       " 'LDApU',\n",
       " 'pc169.ipynb',\n",
       " 'sByno.jpg',\n",
       " 'BLe1w',\n",
       " 'kx3AT.jpg',\n",
       " '4TQqg.jpg',\n",
       " 'IUu4t.jpg',\n",
       " 'HSgmG.jpg',\n",
       " 'PVA74.jpg',\n",
       " 'QI6Av.jpg',\n",
       " 'PccQ7.jpg',\n",
       " 'oiMPi.jpg',\n",
       " 'ibSRa.jpg']"
      ]
     },
     "execution_count": 39,
     "metadata": {},
     "output_type": "execute_result"
    }
   ],
   "source": [
    "def get_image(location):\n",
    "    images = os.listdir(location)\n",
    "    return images\n",
    "image_list = get_image('../Images')\n",
    "image_list"
   ]
  },
  {
   "cell_type": "code",
   "execution_count": 40,
   "metadata": {},
   "outputs": [],
   "source": [
    "def rename_images():\n",
    "    for image in image_list:\n",
    "        image_name = os.path.splitext(image)[0]\n",
    "        image_ext = os.path.splitext(image)[1]\n",
    "        old_name = image_name + image_ext\n",
    "        new_name = ''.join(random.choice(string.ascii_letters+string.digits) for i in range (5))+ image_ext\n",
    "        os.rename(old_name,new_name)\n",
    "        \n",
    "rename_images()"
   ]
  },
  {
   "cell_type": "code",
   "execution_count": 42,
   "metadata": {},
   "outputs": [
    {
     "data": {
      "text/plain": [
       "['ywm3u.jpg',\n",
       " 'c1T5m.jpg',\n",
       " '4IsdB.jpg',\n",
       " 'hgcAx.jpg',\n",
       " 'TIAYz.jpg',\n",
       " 'pItZ1.jpg',\n",
       " 'KRVoV.jpg',\n",
       " '6nAIc.jpg',\n",
       " 'tsaLF',\n",
       " 'zlC1J.jpg',\n",
       " '2hGcN.jpg',\n",
       " 'Mf5z9.jpg',\n",
       " 'Vu6tE.jpg',\n",
       " 'Repws',\n",
       " '9sVxw.jpg',\n",
       " '9VBQT',\n",
       " 'IEjCC.ipynb',\n",
       " 'Vfo78.jpg',\n",
       " 'WGF6O.jpg',\n",
       " 'qMxKp.jpg',\n",
       " 'Untitled.ipynb',\n",
       " 'ULLba.jpg',\n",
       " 'Y3ndP.jpg',\n",
       " '0PvNj',\n",
       " 'AVq5U',\n",
       " '6gMux.jpg',\n",
       " 'bSvcJ.jpg',\n",
       " 'TRzNi.jpg',\n",
       " 'TYitG.jpg',\n",
       " 'Y7v5H.ipynb',\n",
       " 'iI5ol.jpg',\n",
       " 'YsyM1.ipynb',\n",
       " 'QfHOH.ipynb',\n",
       " 'sIDgm.jpg',\n",
       " 'MGNmp.jpg',\n",
       " 'zrjx8.jpg',\n",
       " 'TWZyQ.jpg',\n",
       " 'hWY06.jpg',\n",
       " 'qXyNy.jpg',\n",
       " '50Joa.jpg',\n",
       " 'AfBqv.jpg',\n",
       " 'ygjjG.ipynb',\n",
       " 'k6oei.jpg',\n",
       " 'VhSOH.jpg',\n",
       " 'oVt8u.jpg',\n",
       " '48Gi2.ipynb',\n",
       " 'M4i83.jpg',\n",
       " 'zO2Uq',\n",
       " '.ipynb_checkpoints',\n",
       " 'lptDc.jpg',\n",
       " 'LDApU',\n",
       " 'pc169.ipynb',\n",
       " 'sByno.jpg',\n",
       " 'BLe1w',\n",
       " 'kx3AT.jpg',\n",
       " '4TQqg.jpg',\n",
       " 'IUu4t.jpg',\n",
       " 'HSgmG.jpg',\n",
       " 'PVA74.jpg',\n",
       " 'QI6Av.jpg',\n",
       " 'PccQ7.jpg',\n",
       " 'oiMPi.jpg',\n",
       " 'ibSRa.jpg']"
      ]
     },
     "execution_count": 42,
     "metadata": {},
     "output_type": "execute_result"
    }
   ],
   "source": [
    "image_list"
   ]
  },
  {
   "cell_type": "code",
   "execution_count": null,
   "metadata": {},
   "outputs": [],
   "source": [
    "image_renamed = os.rename(old_name,new_name)\n",
    "print(image_renamed)"
   ]
  },
  {
   "cell_type": "code",
   "execution_count": null,
   "metadata": {},
   "outputs": [],
   "source": []
  }
 ],
 "metadata": {
  "kernelspec": {
   "display_name": "Python 3",
   "language": "python",
   "name": "python3"
  },
  "language_info": {
   "codemirror_mode": {
    "name": "ipython",
    "version": 3
   },
   "file_extension": ".py",
   "mimetype": "text/x-python",
   "name": "python",
   "nbconvert_exporter": "python",
   "pygments_lexer": "ipython3",
   "version": "3.7.6"
  }
 },
 "nbformat": 4,
 "nbformat_minor": 4
}
