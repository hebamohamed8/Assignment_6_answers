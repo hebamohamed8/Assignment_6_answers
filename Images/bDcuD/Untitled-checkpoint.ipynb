{
 "cells": [
  {
   "cell_type": "code",
   "execution_count": 14,
   "metadata": {},
   "outputs": [],
   "source": [
    "import os\n",
    "import random\n",
    "import string"
   ]
  },
  {
   "cell_type": "code",
   "execution_count": 16,
   "metadata": {},
   "outputs": [
    {
     "data": {
      "text/plain": [
       "['1qT49.jpg',\n",
       " 'ZrxOE.jpg',\n",
       " 'pecUR.jpg',\n",
       " '5qgx0.jpg',\n",
       " 'nuBrb.jpg',\n",
       " '8J54E.jpg',\n",
       " '4vIWJ.jpg',\n",
       " '514IU.jpg',\n",
       " 'R5Apk.jpg',\n",
       " 'GVi15.jpg',\n",
       " 'MCuW2.jpg',\n",
       " 'mBhrq.jpg',\n",
       " '0injE.jpg',\n",
       " 'EoqoE.jpg',\n",
       " 'E2qsf.jpg',\n",
       " 'z37GJ.jpg',\n",
       " 'bE8eg',\n",
       " 'Untitled.ipynb',\n",
       " 'lWpwd.jpg',\n",
       " 'fre3s.jpg',\n",
       " 'eTXvC',\n",
       " 'QM31e',\n",
       " '2lPn1.jpg',\n",
       " 'Heqx1.jpg',\n",
       " 'HQrQk.jpg',\n",
       " 'Qu6lK.jpg',\n",
       " 'dwNqU.jpg',\n",
       " 'RDfWt.jpg',\n",
       " 'gpsXt.jpg',\n",
       " 'o087Z.jpg',\n",
       " 'wE2Ci.jpg',\n",
       " 'oHBtA.jpg',\n",
       " 'MOo5x.jpg',\n",
       " 'cf59X.jpg',\n",
       " 'LN69r.ipynb',\n",
       " 'mVJNv.jpg',\n",
       " 'TRuf6.jpg',\n",
       " 'KoZ0f.jpg',\n",
       " '6JB6u.jpg',\n",
       " 'uUCu6.jpg',\n",
       " 'Pi5t1.jpg',\n",
       " '.ipynb_checkpoints',\n",
       " 'eXIYh.jpg',\n",
       " '7Xt1j.jpg',\n",
       " 'P3DZ6.jpg',\n",
       " 'iAL8c.jpg',\n",
       " 'oZ57J.jpg',\n",
       " '4D5vt.jpg',\n",
       " 'YPZqJ.jpg',\n",
       " 'J9jLJ.jpg',\n",
       " 'ZdSag.ipynb',\n",
       " 'ZLxF0.jpg',\n",
       " '2EvEU.jpg']"
      ]
     },
     "execution_count": 16,
     "metadata": {},
     "output_type": "execute_result"
    }
   ],
   "source": [
    "def get_image(location):\n",
    "    images = os.listdir(location)\n",
    "    return images\n",
    "image_list = get_image('../Images')\n",
    "image_list"
   ]
  },
  {
   "cell_type": "code",
   "execution_count": 17,
   "metadata": {},
   "outputs": [
    {
     "name": "stdout",
     "output_type": "stream",
     "text": [
      "None\n",
      "None\n",
      "None\n",
      "None\n",
      "None\n",
      "None\n",
      "None\n",
      "None\n",
      "None\n",
      "None\n",
      "None\n",
      "None\n",
      "None\n",
      "None\n",
      "None\n",
      "None\n",
      "None\n",
      "None\n",
      "None\n",
      "None\n",
      "None\n",
      "None\n",
      "None\n",
      "None\n",
      "None\n",
      "None\n",
      "None\n",
      "None\n",
      "None\n",
      "None\n",
      "None\n",
      "None\n",
      "None\n",
      "None\n",
      "None\n",
      "None\n",
      "None\n",
      "None\n",
      "None\n",
      "None\n",
      "None\n",
      "None\n",
      "None\n",
      "None\n",
      "None\n",
      "None\n",
      "None\n",
      "None\n",
      "None\n",
      "None\n",
      "None\n",
      "None\n",
      "None\n"
     ]
    }
   ],
   "source": [
    "def rename_images():\n",
    "    for image in image_list:\n",
    "        image_name = os.path.splitext(image)[0]\n",
    "        image_ext = os.path.splitext(image)[1]\n",
    "        old_name = image_name + image_ext\n",
    "        new_name = ''.join(random.choice(string.ascii_letters+string.digits) for i in range (5))+ image_ext\n",
    "        image_renamed = os.rename(old_name,new_name)\n",
    "        print(image_renamed)\n",
    "rename_images()"
   ]
  },
  {
   "cell_type": "code",
   "execution_count": null,
   "metadata": {},
   "outputs": [],
   "source": [
    "for image in image_list:\n",
    "    new_name = ''.join(random.choice(string.ascii_letters+string.digits) for i in range (5))+ image_ext\n",
    "    print(new_name)"
   ]
  },
  {
   "cell_type": "code",
   "execution_count": null,
   "metadata": {},
   "outputs": [],
   "source": [
    "image_renamed = os.rename(old_name,new_name)\n",
    "print(image_renamed)"
   ]
  },
  {
   "cell_type": "code",
   "execution_count": null,
   "metadata": {},
   "outputs": [],
   "source": []
  }
 ],
 "metadata": {
  "kernelspec": {
   "display_name": "Python 3",
   "language": "python",
   "name": "python3"
  },
  "language_info": {
   "codemirror_mode": {
    "name": "ipython",
    "version": 3
   },
   "file_extension": ".py",
   "mimetype": "text/x-python",
   "name": "python",
   "nbconvert_exporter": "python",
   "pygments_lexer": "ipython3",
   "version": "3.7.6"
  }
 },
 "nbformat": 4,
 "nbformat_minor": 4
}
