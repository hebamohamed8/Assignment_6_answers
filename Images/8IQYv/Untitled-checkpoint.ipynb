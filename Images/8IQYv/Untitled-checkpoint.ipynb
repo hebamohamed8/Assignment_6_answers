{
 "cells": [
  {
   "cell_type": "code",
   "execution_count": 29,
   "metadata": {},
   "outputs": [],
   "source": [
    "import os\n",
    "import random\n",
    "import string"
   ]
  },
  {
   "cell_type": "code",
   "execution_count": 25,
   "metadata": {},
   "outputs": [
    {
     "data": {
      "text/plain": [
       "['8N65q.jpg',\n",
       " 'b0cDy.jpg',\n",
       " 'aedIr.jpg',\n",
       " 'L1Ism.ipynb',\n",
       " 'gNFl9.jpg',\n",
       " 'hn0m8.jpg',\n",
       " 'jd4Vd.jpg',\n",
       " 'uke4g.jpg',\n",
       " 'ZmX4X.jpg',\n",
       " 'BFkxI.jpg',\n",
       " 'Uy7vm.jpg',\n",
       " 'JhhUO.ipynb',\n",
       " 'IHkIm',\n",
       " '6GaGU.jpg',\n",
       " 'HzWgi.jpg',\n",
       " 'QIDN8.jpg',\n",
       " 'Untitled.ipynb',\n",
       " 'Wh40Z',\n",
       " 'I3R8i.jpg',\n",
       " 'AXKqT.jpg',\n",
       " 'viO8I.jpg',\n",
       " 'RSxCH.jpg',\n",
       " '3YvIl.jpg',\n",
       " 'RTySL.jpg',\n",
       " 'Avqcv.jpg',\n",
       " '0A0rV.ipynb',\n",
       " 'G9sDx',\n",
       " 'wvvBc.jpg',\n",
       " 'v0HSZ.jpg',\n",
       " 'yOEOH.jpg',\n",
       " 'YdO6c.jpg',\n",
       " 'ea6oU.jpg',\n",
       " 's7iMv.jpg',\n",
       " 'E3SKS.jpg',\n",
       " 'XgtFt.jpg',\n",
       " '0HBL0',\n",
       " 'KFNcJ.jpg',\n",
       " 'o8Doz.jpg',\n",
       " 'vTOuQ.jpg',\n",
       " '4cZo5.jpg',\n",
       " 'BA55e.jpg',\n",
       " 'hRccW.jpg',\n",
       " 'QE9bU.jpg',\n",
       " 'PqVPh.jpg',\n",
       " '.ipynb_checkpoints',\n",
       " 'wts6P.jpg',\n",
       " 'DXu8P',\n",
       " 'O9kGg.jpg',\n",
       " 'HotfZ.jpg',\n",
       " 'S52po.jpg',\n",
       " 'svfyd.jpg',\n",
       " 'ssLbH.jpg',\n",
       " 'ovgNt.ipynb',\n",
       " 'EKSF3.jpg',\n",
       " 'nXEQm.jpg',\n",
       " '4ljko.jpg',\n",
       " 'iVYfn.jpg']"
      ]
     },
     "execution_count": 25,
     "metadata": {},
     "output_type": "execute_result"
    }
   ],
   "source": [
    "def get_image(location):\n",
    "    images = os.listdir(location)\n",
    "    return images\n",
    "image_list = get_image('../Images')\n",
    "image_list"
   ]
  },
  {
   "cell_type": "code",
   "execution_count": 28,
   "metadata": {},
   "outputs": [
    {
     "ename": "FileNotFoundError",
     "evalue": "[Errno 2] No such file or directory: '8N65q.jpg' -> 'YPGPz.jpg'",
     "output_type": "error",
     "traceback": [
      "\u001b[0;31m---------------------------------------------------------------------------\u001b[0m",
      "\u001b[0;31mFileNotFoundError\u001b[0m                         Traceback (most recent call last)",
      "\u001b[0;32m<ipython-input-28-bde9fd3160e5>\u001b[0m in \u001b[0;36m<module>\u001b[0;34m\u001b[0m\n\u001b[1;32m      7\u001b[0m         \u001b[0mimage_renamed\u001b[0m \u001b[0;34m=\u001b[0m \u001b[0mos\u001b[0m\u001b[0;34m.\u001b[0m\u001b[0mrename\u001b[0m\u001b[0;34m(\u001b[0m\u001b[0mold_name\u001b[0m\u001b[0;34m,\u001b[0m\u001b[0mnew_name\u001b[0m\u001b[0;34m)\u001b[0m\u001b[0;34m\u001b[0m\u001b[0;34m\u001b[0m\u001b[0m\n\u001b[1;32m      8\u001b[0m \u001b[0;34m\u001b[0m\u001b[0m\n\u001b[0;32m----> 9\u001b[0;31m \u001b[0mrename_images\u001b[0m\u001b[0;34m(\u001b[0m\u001b[0mimage_list\u001b[0m\u001b[0;34m)\u001b[0m\u001b[0;34m\u001b[0m\u001b[0;34m\u001b[0m\u001b[0m\n\u001b[0m",
      "\u001b[0;32m<ipython-input-28-bde9fd3160e5>\u001b[0m in \u001b[0;36mrename_images\u001b[0;34m(name)\u001b[0m\n\u001b[1;32m      5\u001b[0m         \u001b[0mold_name\u001b[0m \u001b[0;34m=\u001b[0m \u001b[0mimage_name\u001b[0m \u001b[0;34m+\u001b[0m \u001b[0mimage_ext\u001b[0m\u001b[0;34m\u001b[0m\u001b[0;34m\u001b[0m\u001b[0m\n\u001b[1;32m      6\u001b[0m         \u001b[0mnew_name\u001b[0m \u001b[0;34m=\u001b[0m \u001b[0;34m''\u001b[0m\u001b[0;34m.\u001b[0m\u001b[0mjoin\u001b[0m\u001b[0;34m(\u001b[0m\u001b[0mrandom\u001b[0m\u001b[0;34m.\u001b[0m\u001b[0mchoice\u001b[0m\u001b[0;34m(\u001b[0m\u001b[0mstring\u001b[0m\u001b[0;34m.\u001b[0m\u001b[0mascii_letters\u001b[0m\u001b[0;34m+\u001b[0m\u001b[0mstring\u001b[0m\u001b[0;34m.\u001b[0m\u001b[0mdigits\u001b[0m\u001b[0;34m)\u001b[0m \u001b[0;32mfor\u001b[0m \u001b[0mi\u001b[0m \u001b[0;32min\u001b[0m \u001b[0mrange\u001b[0m \u001b[0;34m(\u001b[0m\u001b[0;36m5\u001b[0m\u001b[0;34m)\u001b[0m\u001b[0;34m)\u001b[0m\u001b[0;34m+\u001b[0m \u001b[0mimage_ext\u001b[0m\u001b[0;34m\u001b[0m\u001b[0;34m\u001b[0m\u001b[0m\n\u001b[0;32m----> 7\u001b[0;31m         \u001b[0mimage_renamed\u001b[0m \u001b[0;34m=\u001b[0m \u001b[0mos\u001b[0m\u001b[0;34m.\u001b[0m\u001b[0mrename\u001b[0m\u001b[0;34m(\u001b[0m\u001b[0mold_name\u001b[0m\u001b[0;34m,\u001b[0m\u001b[0mnew_name\u001b[0m\u001b[0;34m)\u001b[0m\u001b[0;34m\u001b[0m\u001b[0;34m\u001b[0m\u001b[0m\n\u001b[0m\u001b[1;32m      8\u001b[0m \u001b[0;34m\u001b[0m\u001b[0m\n\u001b[1;32m      9\u001b[0m \u001b[0mrename_images\u001b[0m\u001b[0;34m(\u001b[0m\u001b[0mimage_list\u001b[0m\u001b[0;34m)\u001b[0m\u001b[0;34m\u001b[0m\u001b[0;34m\u001b[0m\u001b[0m\n",
      "\u001b[0;31mFileNotFoundError\u001b[0m: [Errno 2] No such file or directory: '8N65q.jpg' -> 'YPGPz.jpg'"
     ]
    }
   ],
   "source": [
    "def rename_images(name):\n",
    "    for image in image_list:\n",
    "        image_name = os.path.splitext(image)[0]\n",
    "        image_ext = os.path.splitext(image)[1]\n",
    "        old_name = image_name + image_ext\n",
    "        new_name = ''.join(random.choice(string.ascii_letters+string.digits) for i in range (5))+ image_ext\n",
    "        image_renamed = os.rename(old_name,new_name)\n",
    "\n",
    "rename_images(image_list)"
   ]
  },
  {
   "cell_type": "code",
   "execution_count": null,
   "metadata": {},
   "outputs": [],
   "source": [
    "for image in image_list:\n",
    "    new_name = ''.join(random.choice(string.ascii_letters+string.digits) for i in range (5))+ image_ext\n",
    "    print(new_name)"
   ]
  },
  {
   "cell_type": "code",
   "execution_count": null,
   "metadata": {},
   "outputs": [],
   "source": [
    "image_renamed = os.rename(old_name,new_name)\n",
    "print(image_renamed)"
   ]
  },
  {
   "cell_type": "code",
   "execution_count": null,
   "metadata": {},
   "outputs": [],
   "source": []
  }
 ],
 "metadata": {
  "kernelspec": {
   "display_name": "Python 3",
   "language": "python",
   "name": "python3"
  },
  "language_info": {
   "codemirror_mode": {
    "name": "ipython",
    "version": 3
   },
   "file_extension": ".py",
   "mimetype": "text/x-python",
   "name": "python",
   "nbconvert_exporter": "python",
   "pygments_lexer": "ipython3",
   "version": "3.7.6"
  }
 },
 "nbformat": 4,
 "nbformat_minor": 4
}
