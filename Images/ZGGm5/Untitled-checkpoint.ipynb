{
 "cells": [
  {
   "cell_type": "code",
   "execution_count": 35,
   "metadata": {},
   "outputs": [],
   "source": [
    "import os\n",
    "import random\n",
    "import string"
   ]
  },
  {
   "cell_type": "code",
   "execution_count": 36,
   "metadata": {},
   "outputs": [
    {
     "data": {
      "text/plain": [
       "['WVOd6.jpg',\n",
       " '6OBUk',\n",
       " 'L1VdS.jpg',\n",
       " 'M0n1a.jpg',\n",
       " 'ebeCV.jpg',\n",
       " 'KL6DQ.jpg',\n",
       " 'hGRAx.ipynb',\n",
       " 'kCPol.jpg',\n",
       " 'v00KM.jpg',\n",
       " 'D1e28.jpg',\n",
       " 'tQaYj.ipynb',\n",
       " 'Untitled.ipynb',\n",
       " 'FSYJv.jpg',\n",
       " 'OJhcx.jpg',\n",
       " 'QL25J.ipynb',\n",
       " 'Icf2c.jpg',\n",
       " 'wLCxb',\n",
       " 'GxG9v.jpg',\n",
       " 'mX59N.jpg',\n",
       " 'QgGKp.jpg',\n",
       " 'C3GRN.jpg',\n",
       " 'rzleN.jpg',\n",
       " 'V4Gfg.jpg',\n",
       " 'K2T40.jpg',\n",
       " '3pbVi.jpg',\n",
       " '1WYrM.jpg',\n",
       " 'VcQZ6',\n",
       " 'vzmzf',\n",
       " 'kgB0j.jpg',\n",
       " 'ILzJA.jpg',\n",
       " 'mhEC0.jpg',\n",
       " 'J3zYS',\n",
       " 'YZ8PL.jpg',\n",
       " 'y9Xgl.jpg',\n",
       " 'GS2x7.jpg',\n",
       " 'fV27M.jpg',\n",
       " 'MW1gp.jpg',\n",
       " 'tGE4O',\n",
       " 'f9C6J.jpg',\n",
       " 'XjV84.jpg',\n",
       " 'HhB0N.jpg',\n",
       " 'zZt86.jpg',\n",
       " '7Bhkk.jpg',\n",
       " 'VuNXf',\n",
       " 'FlBek.jpg',\n",
       " '.ipynb_checkpoints',\n",
       " 'bBAuv.ipynb',\n",
       " 'ymBbC.jpg',\n",
       " '2PGcs.jpg',\n",
       " 'u4jt4.jpg',\n",
       " 'Lntn7.jpg',\n",
       " 'cmPob.jpg',\n",
       " 'Rs3yS.ipynb',\n",
       " 'Fg0dX.jpg',\n",
       " 'SBEHk.jpg',\n",
       " 'OKEIv.jpg',\n",
       " 'aJioH.ipynb',\n",
       " 'FYzyk.jpg',\n",
       " 'VJhk0.jpg',\n",
       " 'gw7Sq.jpg',\n",
       " '2rFk8.jpg']"
      ]
     },
     "execution_count": 36,
     "metadata": {},
     "output_type": "execute_result"
    }
   ],
   "source": [
    "def get_image(location):\n",
    "    images = os.listdir(location)\n",
    "    return images\n",
    "image_list = get_image('../Images')\n",
    "image_list"
   ]
  },
  {
   "cell_type": "code",
   "execution_count": 37,
   "metadata": {},
   "outputs": [
    {
     "name": "stdout",
     "output_type": "stream",
     "text": [
      "[None, None, None, None, None, None, None, None, None, None, None, None, None, None, None, None, None, None, None, None, None, None, None, None, None, None, None, None, None, None, None, None, None, None, None, None, None, None, None, None, None, None, None, None, None, None, None, None, None, None, None, None, None, None, None, None, None, None, None, None, None]\n"
     ]
    }
   ],
   "source": [
    "image_list_renamed = []\n",
    "def rename_images(name):\n",
    "    for image in image_list:\n",
    "        image_name = os.path.splitext(image)[0]\n",
    "        image_ext = os.path.splitext(image)[1]\n",
    "        old_name = image_name + image_ext\n",
    "        new_name = ''.join(random.choice(string.ascii_letters+string.digits) for i in range (5))+ image_ext\n",
    "        image_renamed = os.rename(old_name,new_name)\n",
    "        \n",
    "rename_images(image_list)"
   ]
  },
  {
   "cell_type": "code",
   "execution_count": null,
   "metadata": {},
   "outputs": [],
   "source": [
    "for image in image_list:\n",
    "    new_name = ''.join(random.choice(string.ascii_letters+string.digits) for i in range (5))+ image_ext\n",
    "    print(new_name)"
   ]
  },
  {
   "cell_type": "code",
   "execution_count": null,
   "metadata": {},
   "outputs": [],
   "source": [
    "image_renamed = os.rename(old_name,new_name)\n",
    "print(image_renamed)"
   ]
  },
  {
   "cell_type": "code",
   "execution_count": null,
   "metadata": {},
   "outputs": [],
   "source": []
  }
 ],
 "metadata": {
  "kernelspec": {
   "display_name": "Python 3",
   "language": "python",
   "name": "python3"
  },
  "language_info": {
   "codemirror_mode": {
    "name": "ipython",
    "version": 3
   },
   "file_extension": ".py",
   "mimetype": "text/x-python",
   "name": "python",
   "nbconvert_exporter": "python",
   "pygments_lexer": "ipython3",
   "version": "3.7.6"
  }
 },
 "nbformat": 4,
 "nbformat_minor": 4
}
