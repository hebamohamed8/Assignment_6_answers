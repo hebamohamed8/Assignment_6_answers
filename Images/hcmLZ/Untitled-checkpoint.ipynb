{
 "cells": [
  {
   "cell_type": "code",
   "execution_count": 1,
   "metadata": {},
   "outputs": [],
   "source": [
    "import os\n",
    "import random\n",
    "import string"
   ]
  },
  {
   "cell_type": "code",
   "execution_count": 3,
   "metadata": {},
   "outputs": [
    {
     "data": {
      "text/plain": [
       "['nature1.jpg',\n",
       " 'dandelion.jpg',\n",
       " 'Untitled.ipynb',\n",
       " 'viewcairo.jpg',\n",
       " 'edward.jpg',\n",
       " 'stock.jpg',\n",
       " 'loveourplanet.jpg',\n",
       " 'forest.jpg',\n",
       " 'images1.jpg',\n",
       " 'img9.jpg',\n",
       " 'img8.jpg',\n",
       " 'heart.jpg',\n",
       " 'wolf.jpg',\n",
       " 'img5.jpg',\n",
       " 'photo.jpg',\n",
       " 'moon.jpg',\n",
       " 'img4.jpg',\n",
       " 'istockphoto.jpg',\n",
       " 'lights.jpg',\n",
       " 'img6.jpg',\n",
       " 'img7.jpg',\n",
       " 'img10.jog.jpg',\n",
       " 'img3.jpg',\n",
       " 'img2.jpg',\n",
       " 'cairo.jpg',\n",
       " 'cnnnext.jpg',\n",
       " 'nature.jpg',\n",
       " 'pexels.jpg',\n",
       " 'gud.jpg',\n",
       " 'colorful.jpg',\n",
       " 'img1.jpg',\n",
       " '.ipynb_checkpoints',\n",
       " 'woman.jpg',\n",
       " 'lead.jpg',\n",
       " 'miss.jpg',\n",
       " 'img11.jpg',\n",
       " 'image1.jpg',\n",
       " 'photo2.jpg',\n",
       " 'img12.jpg',\n",
       " 'images.jpg',\n",
       " 'Image2.jpg',\n",
       " 'image.jpg',\n",
       " 'photo1.jpg',\n",
       " 'environment.jpg',\n",
       " 'high.jpg',\n",
       " 'free.jpg',\n",
       " 'Image3.jpg',\n",
       " 'close.jpg']"
      ]
     },
     "execution_count": 3,
     "metadata": {},
     "output_type": "execute_result"
    }
   ],
   "source": [
    "def get_image(location):\n",
    "    images = os.listdir(location)\n",
    "    return images\n",
    "image_list = get_image('../Images')\n",
    "image_list.remove('.DS_Store')\n",
    "image_list\n"
   ]
  },
  {
   "cell_type": "code",
   "execution_count": 4,
   "metadata": {},
   "outputs": [
    {
     "name": "stdout",
     "output_type": "stream",
     "text": [
      "nature1.jpg\n",
      "dandelion.jpg\n",
      "Untitled.ipynb\n",
      "viewcairo.jpg\n",
      "edward.jpg\n",
      "stock.jpg\n",
      "loveourplanet.jpg\n",
      "forest.jpg\n",
      "images1.jpg\n",
      "img9.jpg\n",
      "img8.jpg\n",
      "heart.jpg\n",
      "wolf.jpg\n",
      "img5.jpg\n",
      "photo.jpg\n",
      "moon.jpg\n",
      "img4.jpg\n",
      "istockphoto.jpg\n",
      "lights.jpg\n",
      "img6.jpg\n",
      "img7.jpg\n",
      "img10.jog.jpg\n",
      "img3.jpg\n",
      "img2.jpg\n",
      "cairo.jpg\n",
      "cnnnext.jpg\n",
      "nature.jpg\n",
      "pexels.jpg\n",
      "gud.jpg\n",
      "colorful.jpg\n",
      "img1.jpg\n",
      ".ipynb_checkpoints\n",
      "woman.jpg\n",
      "lead.jpg\n",
      "miss.jpg\n",
      "img11.jpg\n",
      "image1.jpg\n",
      "photo2.jpg\n",
      "img12.jpg\n",
      "images.jpg\n",
      "Image2.jpg\n",
      "image.jpg\n",
      "photo1.jpg\n",
      "environment.jpg\n",
      "high.jpg\n",
      "free.jpg\n",
      "Image3.jpg\n",
      "close.jpg\n"
     ]
    }
   ],
   "source": [
    "\n",
    "for image in image_list:\n",
    "    image_name = os.path.splitext(image)[0]\n",
    "    image_ext = os.path.splitext(image)[1]\n",
    "    old_name = image_name + image_ext\n",
    "    print (old_name)\n",
    "       "
   ]
  },
  {
   "cell_type": "code",
   "execution_count": 5,
   "metadata": {},
   "outputs": [
    {
     "name": "stdout",
     "output_type": "stream",
     "text": [
      "VDhOG.jpg\n",
      "bxroq.jpg\n",
      "o4vwN.jpg\n",
      "uWd8g.jpg\n",
      "b932i.jpg\n",
      "z9GXy.jpg\n",
      "rghe9.jpg\n",
      "gk5nf.jpg\n",
      "1byWy.jpg\n",
      "Hrkdp.jpg\n",
      "zwVxQ.jpg\n",
      "FP3CL.jpg\n",
      "6OOkw.jpg\n",
      "9kg0j.jpg\n",
      "QHYZe.jpg\n",
      "N3CFG.jpg\n",
      "bvxiM.jpg\n",
      "614TI.jpg\n",
      "EnccM.jpg\n",
      "bLWZb.jpg\n",
      "dUctS.jpg\n",
      "qKhGS.jpg\n",
      "vHqXk.jpg\n",
      "83bRu.jpg\n",
      "ejok0.jpg\n",
      "nJzoQ.jpg\n",
      "i7EGO.jpg\n",
      "TpZia.jpg\n",
      "9PYfm.jpg\n",
      "S0MO1.jpg\n",
      "1p2JJ.jpg\n",
      "7mTYE.jpg\n",
      "HmXJ6.jpg\n",
      "twulO.jpg\n",
      "cAVNE.jpg\n",
      "96f5u.jpg\n",
      "lgIBH.jpg\n",
      "RmRU6.jpg\n",
      "5yYuQ.jpg\n",
      "ZfwcH.jpg\n",
      "c3F6s.jpg\n",
      "lgPZZ.jpg\n",
      "Q076M.jpg\n",
      "WJPXf.jpg\n",
      "gMMUX.jpg\n",
      "fISlI.jpg\n",
      "Js0tv.jpg\n",
      "ZZJu6.jpg\n"
     ]
    }
   ],
   "source": [
    "for image in image_list:\n",
    "    new_name = ''.join(random.choice(string.ascii_letters+string.digits) for i in range (5))+ image_ext\n",
    "    print(new_name)"
   ]
  },
  {
   "cell_type": "code",
   "execution_count": 10,
   "metadata": {},
   "outputs": [
    {
     "ename": "FileNotFoundError",
     "evalue": "[Errno 2] No such file or directory: 'Images/old_name' -> 'Images/new_name'",
     "output_type": "error",
     "traceback": [
      "\u001b[0;31m---------------------------------------------------------------------------\u001b[0m",
      "\u001b[0;31mFileNotFoundError\u001b[0m                         Traceback (most recent call last)",
      "\u001b[0;32m<ipython-input-10-aea371c864c1>\u001b[0m in \u001b[0;36m<module>\u001b[0;34m\u001b[0m\n\u001b[0;32m----> 1\u001b[0;31m \u001b[0mimage_renamed\u001b[0m \u001b[0;34m=\u001b[0m \u001b[0mos\u001b[0m\u001b[0;34m.\u001b[0m\u001b[0mrename\u001b[0m\u001b[0;34m(\u001b[0m\u001b[0;34m'Images/old_name'\u001b[0m\u001b[0;34m,\u001b[0m\u001b[0;34m'Images/new_name'\u001b[0m\u001b[0;34m)\u001b[0m\u001b[0;34m\u001b[0m\u001b[0;34m\u001b[0m\u001b[0m\n\u001b[0m\u001b[1;32m      2\u001b[0m \u001b[0mprint\u001b[0m\u001b[0;34m(\u001b[0m\u001b[0mimage_renamed\u001b[0m\u001b[0;34m)\u001b[0m\u001b[0;34m\u001b[0m\u001b[0;34m\u001b[0m\u001b[0m\n",
      "\u001b[0;31mFileNotFoundError\u001b[0m: [Errno 2] No such file or directory: 'Images/old_name' -> 'Images/new_name'"
     ]
    }
   ],
   "source": [
    "image_renamed = os.rename(old_name,'Images/new_name')\n",
    "print(image_renamed)"
   ]
  },
  {
   "cell_type": "code",
   "execution_count": null,
   "metadata": {},
   "outputs": [],
   "source": []
  }
 ],
 "metadata": {
  "kernelspec": {
   "display_name": "Python 3",
   "language": "python",
   "name": "python3"
  },
  "language_info": {
   "codemirror_mode": {
    "name": "ipython",
    "version": 3
   },
   "file_extension": ".py",
   "mimetype": "text/x-python",
   "name": "python",
   "nbconvert_exporter": "python",
   "pygments_lexer": "ipython3",
   "version": "3.7.6"
  }
 },
 "nbformat": 4,
 "nbformat_minor": 4
}
