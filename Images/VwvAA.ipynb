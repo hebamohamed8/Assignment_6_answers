{
 "cells": [
  {
   "cell_type": "code",
   "execution_count": 21,
   "metadata": {},
   "outputs": [],
   "source": [
    "import os\n",
    "import random\n",
    "import string"
   ]
  },
  {
   "cell_type": "code",
   "execution_count": 22,
   "metadata": {},
   "outputs": [
    {
     "data": {
      "text/plain": [
       "['of1F0.jpg',\n",
       " 'TgVNL.jpg',\n",
       " 'WqHOi.jpg',\n",
       " 'F2asK.jpg',\n",
       " 'nxXi5.jpg',\n",
       " 'EC95M.jpg',\n",
       " 'v56kR.jpg',\n",
       " 'JVVRY',\n",
       " '94qWU.jpg',\n",
       " 'Untitled.ipynb',\n",
       " '6wEIY.jpg',\n",
       " 'aYtTT.jpg',\n",
       " 'S1gRR.jpg',\n",
       " 'kf0sZ.jpg',\n",
       " '5SgaC.ipynb',\n",
       " 'lndxm.jpg',\n",
       " 'yQiDd.jpg',\n",
       " 'hBP9s.ipynb',\n",
       " '3mAAu.ipynb',\n",
       " 'yYRz1.jpg',\n",
       " 'Pzgi5.jpg',\n",
       " 'J3QZo.jpg',\n",
       " '5k9ll.jpg',\n",
       " 'GBZl4.jpg',\n",
       " 'oar16.jpg',\n",
       " 'PUWeK.jpg',\n",
       " 'FDOFl.jpg',\n",
       " 'hNT0a.jpg',\n",
       " '8wGZi.jpg',\n",
       " 'MPmwV.jpg',\n",
       " 'DRld0.jpg',\n",
       " 'SH1WS.jpg',\n",
       " '5atcr',\n",
       " 'sBAXe',\n",
       " 'vIIo5.jpg',\n",
       " 'KhfaI.jpg',\n",
       " 'U2ODM.jpg',\n",
       " 'xY6ZM.jpg',\n",
       " '.ipynb_checkpoints',\n",
       " 'u33UI.jpg',\n",
       " 'vsXho.jpg',\n",
       " 'aEw3v.jpg',\n",
       " 'CsaK5.jpg',\n",
       " 'zlfTa.jpg',\n",
       " 'VWAcm.jpg',\n",
       " 'VveP6.jpg',\n",
       " 'QDrhz',\n",
       " 'elMOB.jpg',\n",
       " 'o1eoc.jpg',\n",
       " 'UlbSj.jpg',\n",
       " 'q7jHY.jpg',\n",
       " 'JCbdn.jpg',\n",
       " '9NxV5.jpg',\n",
       " 'aa2rN.jpg',\n",
       " 'sZqC3.jpg']"
      ]
     },
     "execution_count": 22,
     "metadata": {},
     "output_type": "execute_result"
    }
   ],
   "source": [
    "def get_image(location):\n",
    "    images = os.listdir(location)\n",
    "    return images\n",
    "image_list = get_image('../Images')\n",
    "image_list"
   ]
  },
  {
   "cell_type": "code",
   "execution_count": 23,
   "metadata": {},
   "outputs": [
    {
     "name": "stdout",
     "output_type": "stream",
     "text": [
      "None\n",
      "None\n",
      "None\n",
      "None\n",
      "None\n",
      "None\n",
      "None\n",
      "None\n",
      "None\n",
      "None\n",
      "None\n",
      "None\n",
      "None\n",
      "None\n",
      "None\n",
      "None\n",
      "None\n",
      "None\n",
      "None\n",
      "None\n",
      "None\n",
      "None\n",
      "None\n",
      "None\n",
      "None\n",
      "None\n",
      "None\n",
      "None\n",
      "None\n",
      "None\n",
      "None\n",
      "None\n",
      "None\n",
      "None\n",
      "None\n",
      "None\n",
      "None\n",
      "None\n",
      "None\n",
      "None\n",
      "None\n",
      "None\n",
      "None\n",
      "None\n",
      "None\n",
      "None\n",
      "None\n",
      "None\n",
      "None\n",
      "None\n",
      "None\n",
      "None\n",
      "None\n",
      "None\n",
      "None\n"
     ]
    }
   ],
   "source": [
    "def rename_images(name):\n",
    "    for image in image_list:\n",
    "        image_name = os.path.splitext(image)[0]\n",
    "        image_ext = os.path.splitext(image)[1]\n",
    "        old_name = image_name + image_ext\n",
    "        new_name = ''.join(random.choice(string.ascii_letters+string.digits) for i in range (5))+ image_ext\n",
    "        image_renamed = os.rename(old_name,new_name)\n",
    "        print(image_renamed)\n",
    "rename_images(image_list)"
   ]
  },
  {
   "cell_type": "code",
   "execution_count": null,
   "metadata": {},
   "outputs": [],
   "source": [
    "for image in image_list:\n",
    "    new_name = ''.join(random.choice(string.ascii_letters+string.digits) for i in range (5))+ image_ext\n",
    "    print(new_name)"
   ]
  },
  {
   "cell_type": "code",
   "execution_count": null,
   "metadata": {},
   "outputs": [],
   "source": [
    "image_renamed = os.rename(old_name,new_name)\n",
    "print(image_renamed)"
   ]
  },
  {
   "cell_type": "code",
   "execution_count": null,
   "metadata": {},
   "outputs": [],
   "source": []
  }
 ],
 "metadata": {
  "kernelspec": {
   "display_name": "Python 3",
   "language": "python",
   "name": "python3"
  },
  "language_info": {
   "codemirror_mode": {
    "name": "ipython",
    "version": 3
   },
   "file_extension": ".py",
   "mimetype": "text/x-python",
   "name": "python",
   "nbconvert_exporter": "python",
   "pygments_lexer": "ipython3",
   "version": "3.7.6"
  }
 },
 "nbformat": 4,
 "nbformat_minor": 4
}
