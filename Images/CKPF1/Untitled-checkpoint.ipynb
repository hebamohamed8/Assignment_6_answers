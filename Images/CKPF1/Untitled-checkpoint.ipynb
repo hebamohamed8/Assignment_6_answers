{
 "cells": [
  {
   "cell_type": "code",
   "execution_count": 32,
   "metadata": {},
   "outputs": [],
   "source": [
    "import os\n",
    "import random\n",
    "import string"
   ]
  },
  {
   "cell_type": "code",
   "execution_count": 33,
   "metadata": {},
   "outputs": [
    {
     "data": {
      "text/plain": [
       "['frlPK.jpg',\n",
       " 'wxNbE.jpg',\n",
       " '4JHn2',\n",
       " 'JP9iJ.jpg',\n",
       " '6pQgb.jpg',\n",
       " 'e8iit',\n",
       " 'a0zsD.ipynb',\n",
       " 'fEb9K.jpg',\n",
       " 'vOJ5X.ipynb',\n",
       " 'JeV9W.ipynb',\n",
       " 'FRaux.jpg',\n",
       " 'jEX27.jpg',\n",
       " 'AOT0T.jpg',\n",
       " 'C2yM2.jpg',\n",
       " 'Z9aXQ.jpg',\n",
       " 'fu0UF.ipynb',\n",
       " 'at2JY.jpg',\n",
       " 'OFVPi.jpg',\n",
       " 'FCKIu.jpg',\n",
       " 'DRxc7.jpg',\n",
       " 'GYZ3m.jpg',\n",
       " 'nKzyc.jpg',\n",
       " 'GURkG',\n",
       " '6neo4.jpg',\n",
       " 'kYyXJ',\n",
       " 'df5iW.jpg',\n",
       " 'nffYc.jpg',\n",
       " 'imhU8',\n",
       " 'dysJS.jpg',\n",
       " 'BU8RW.jpg',\n",
       " 'Z2VvC.jpg',\n",
       " 'XXvp3.jpg',\n",
       " 'jv5pX.jpg',\n",
       " 'ECZAJ.jpg',\n",
       " 'U216s.jpg',\n",
       " 'I0nn8.jpg',\n",
       " 'gVFsE.jpg',\n",
       " 'WUc01.jpg',\n",
       " 'WA5uz.jpg',\n",
       " 'PTkpw.jpg',\n",
       " 'Xjfje.jpg',\n",
       " 'mn2QV.jpg',\n",
       " 'X88AV.jpg',\n",
       " 'Vhcgj.jpg',\n",
       " 'aorTL.jpg',\n",
       " 'v2sqO',\n",
       " 'HrYcH.ipynb',\n",
       " 'I4985',\n",
       " 'aEm6X.jpg',\n",
       " 'CfKM7.jpg',\n",
       " '3bRHk.jpg',\n",
       " 'FEpn9.ipynb',\n",
       " '1WVEa.jpg',\n",
       " 'wbE3R.jpg',\n",
       " 'gGe1Z.jpg',\n",
       " 'VVEqb.jpg',\n",
       " '1OKSh.jpg',\n",
       " 'buWQC.jpg',\n",
       " '5yzia.jpg']"
      ]
     },
     "execution_count": 33,
     "metadata": {},
     "output_type": "execute_result"
    }
   ],
   "source": [
    "def get_image(location):\n",
    "    images = os.listdir(location)\n",
    "    return images\n",
    "image_list = get_image('../Images')\n",
    "image_list"
   ]
  },
  {
   "cell_type": "code",
   "execution_count": 34,
   "metadata": {},
   "outputs": [
    {
     "name": "stdout",
     "output_type": "stream",
     "text": [
      "['frlPK.jpg', 'wxNbE.jpg', '4JHn2', 'JP9iJ.jpg', '6pQgb.jpg', 'e8iit', 'a0zsD.ipynb', 'fEb9K.jpg', 'vOJ5X.ipynb', 'JeV9W.ipynb', 'FRaux.jpg', 'jEX27.jpg', 'AOT0T.jpg', 'C2yM2.jpg', 'Z9aXQ.jpg', 'fu0UF.ipynb', 'at2JY.jpg', 'OFVPi.jpg', 'FCKIu.jpg', 'DRxc7.jpg', 'GYZ3m.jpg', 'nKzyc.jpg', 'GURkG', '6neo4.jpg', 'kYyXJ', 'df5iW.jpg', 'nffYc.jpg', 'imhU8', 'dysJS.jpg', 'BU8RW.jpg', 'Z2VvC.jpg', 'XXvp3.jpg', 'jv5pX.jpg', 'ECZAJ.jpg', 'U216s.jpg', 'I0nn8.jpg', 'gVFsE.jpg', 'WUc01.jpg', 'WA5uz.jpg', 'PTkpw.jpg', 'Xjfje.jpg', 'mn2QV.jpg', 'X88AV.jpg', 'Vhcgj.jpg', 'aorTL.jpg', 'v2sqO', 'HrYcH.ipynb', 'I4985', 'aEm6X.jpg', 'CfKM7.jpg', '3bRHk.jpg', 'FEpn9.ipynb', '1WVEa.jpg', 'wbE3R.jpg', 'gGe1Z.jpg', 'VVEqb.jpg', '1OKSh.jpg', 'buWQC.jpg', '5yzia.jpg']\n"
     ]
    }
   ],
   "source": [
    "image\n",
    "def rename_images(name):\n",
    "    for image in image_list:\n",
    "        image_name = os.path.splitext(image)[0]\n",
    "        image_ext = os.path.splitext(image)[1]\n",
    "        old_name = image_name + image_ext\n",
    "        new_name = ''.join(random.choice(string.ascii_letters+string.digits) for i in range (5))+ image_ext\n",
    "        image_renamed = os.rename(old_name,new_name)\n",
    "        image\n",
    "    print(image_list)\n",
    "rename_images(image_list)"
   ]
  },
  {
   "cell_type": "code",
   "execution_count": null,
   "metadata": {},
   "outputs": [],
   "source": [
    "for image in image_list:\n",
    "    new_name = ''.join(random.choice(string.ascii_letters+string.digits) for i in range (5))+ image_ext\n",
    "    print(new_name)"
   ]
  },
  {
   "cell_type": "code",
   "execution_count": null,
   "metadata": {},
   "outputs": [],
   "source": [
    "image_renamed = os.rename(old_name,new_name)\n",
    "print(image_renamed)"
   ]
  },
  {
   "cell_type": "code",
   "execution_count": null,
   "metadata": {},
   "outputs": [],
   "source": []
  }
 ],
 "metadata": {
  "kernelspec": {
   "display_name": "Python 3",
   "language": "python",
   "name": "python3"
  },
  "language_info": {
   "codemirror_mode": {
    "name": "ipython",
    "version": 3
   },
   "file_extension": ".py",
   "mimetype": "text/x-python",
   "name": "python",
   "nbconvert_exporter": "python",
   "pygments_lexer": "ipython3",
   "version": "3.7.6"
  }
 },
 "nbformat": 4,
 "nbformat_minor": 4
}
